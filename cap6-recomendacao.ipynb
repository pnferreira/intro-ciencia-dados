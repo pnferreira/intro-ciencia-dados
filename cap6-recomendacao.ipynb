{
 "cells": [
  {
   "cell_type": "markdown",
   "id": "4cd0100a",
   "metadata": {},
   "source": [
    "# Cap. 6 - Análise Prescritiva\n",
    "\n",
    "## Sistemas de Recomendação\n",
    "\n",
    "Kaggle: https://www.kaggle.com/datasets/harshitshankhdhar/imdb-dataset-of-top-1000-movies-and-tv-shows/data"
   ]
  },
  {
   "cell_type": "code",
   "execution_count": 1,
   "id": "44dc0646",
   "metadata": {},
   "outputs": [],
   "source": [
    "# Importações\n",
    "import pandas as pd\n",
    "from sklearn.compose import ColumnTransformer\n",
    "from sklearn.preprocessing import OneHotEncoder, StandardScaler\n",
    "from sklearn.pipeline import Pipeline\n",
    "from sklearn.neighbors import NearestNeighbors"
   ]
  },
  {
   "cell_type": "code",
   "execution_count": 2,
   "id": "1854a226",
   "metadata": {},
   "outputs": [],
   "source": [
    "# Coleta e pré-processamento\n",
    "def prepare_data():\n",
    "    imdb = pd.read_csv('imdb_top_1000.csv')\n",
    "    \n",
    "    # Filtrando os dados\n",
    "    keep_cols = ['Genre', 'Director', 'Star1', 'Star2']\n",
    "    imdb_filtered = imdb.loc[:,keep_cols]\n",
    "\n",
    "    # Tratanto variáveis numéricas\n",
    "    numeric_pipe = Pipeline([('scaler', StandardScaler())])\n",
    "\n",
    "    # Tratando variáveis categóricas\n",
    "    categorical_pipe = Pipeline([('encoder', OneHotEncoder(drop = 'first'))])\n",
    "\n",
    "    col_transf = ColumnTransformer([\n",
    "        ('numeric', numeric_pipe, imdb_filtered._get_numeric_data().columns.tolist()),\n",
    "        ('categoric', categorical_pipe, imdb_filtered.select_dtypes('object').columns.tolist()) ])\n",
    "\n",
    "    col_transf_fit = col_transf.fit(imdb_filtered)\n",
    "    imdb_filtered_transf = col_transf_fit.transform(imdb_filtered)\n",
    "\n",
    "    return imdb, imdb_filtered_transf"
   ]
  },
  {
   "cell_type": "code",
   "execution_count": 3,
   "id": "618ed7dd",
   "metadata": {},
   "outputs": [],
   "source": [
    "# Recomendação de filme\n",
    "def get_movie_recommendations(movie_name, imdb, imdb_filtered_transf):\n",
    "    # Buscando o filme\n",
    "    movie_idx = imdb[imdb[\"Series_Title\"].str.lower().str.contains(movie_name.lower())].index[0]\n",
    "    \n",
    "    n_neighbors = 5\n",
    "    nneighbors = NearestNeighbors(n_neighbors=n_neighbors, metric='cosine').fit(imdb_filtered_transf)\n",
    "    \n",
    "    movie_data = imdb_filtered_transf[movie_idx].toarray().reshape(1, -1)\n",
    "    _, ind = nneighbors.kneighbors(movie_data)\n",
    "\n",
    "    # Recomendações\n",
    "    recommended_movies = imdb.loc[ind[0][1:], :]\n",
    "    return recommended_movies\n"
   ]
  },
  {
   "cell_type": "code",
   "execution_count": 6,
   "id": "cf8bf0ce",
   "metadata": {},
   "outputs": [
    {
     "name": "stdout",
     "output_type": "stream",
     "text": [
      "Escreva o filme que você gostou: the incredibles\n",
      "\n",
      "Filme:  The Incredibles\n",
      "================================================================================\n",
      "Recomendações\n",
      "================================================================================\n"
     ]
    },
    {
     "data": {
      "text/html": [
       "<div>\n",
       "<style scoped>\n",
       "    .dataframe tbody tr th:only-of-type {\n",
       "        vertical-align: middle;\n",
       "    }\n",
       "\n",
       "    .dataframe tbody tr th {\n",
       "        vertical-align: top;\n",
       "    }\n",
       "\n",
       "    .dataframe thead th {\n",
       "        text-align: right;\n",
       "    }\n",
       "</style>\n",
       "<table border=\"1\" class=\"dataframe\">\n",
       "  <thead>\n",
       "    <tr style=\"text-align: right;\">\n",
       "      <th></th>\n",
       "      <th>Series_Title</th>\n",
       "      <th>Genre</th>\n",
       "    </tr>\n",
       "  </thead>\n",
       "  <tbody>\n",
       "    <tr>\n",
       "      <th>891</th>\n",
       "      <td>Incredibles 2</td>\n",
       "      <td>Animation, Action, Adventure</td>\n",
       "    </tr>\n",
       "    <tr>\n",
       "      <th>389</th>\n",
       "      <td>The Iron Giant</td>\n",
       "      <td>Animation, Action, Adventure</td>\n",
       "    </tr>\n",
       "    <tr>\n",
       "      <th>58</th>\n",
       "      <td>Spider-Man: Into the Spider-Verse</td>\n",
       "      <td>Animation, Action, Adventure</td>\n",
       "    </tr>\n",
       "    <tr>\n",
       "      <th>367</th>\n",
       "      <td>Ratatouille</td>\n",
       "      <td>Animation, Adventure, Comedy</td>\n",
       "    </tr>\n",
       "  </tbody>\n",
       "</table>\n",
       "</div>"
      ],
      "text/plain": [
       "                          Series_Title                         Genre\n",
       "891                      Incredibles 2  Animation, Action, Adventure\n",
       "389                     The Iron Giant  Animation, Action, Adventure\n",
       "58   Spider-Man: Into the Spider-Verse  Animation, Action, Adventure\n",
       "367                        Ratatouille  Animation, Adventure, Comedy"
      ]
     },
     "execution_count": 6,
     "metadata": {},
     "output_type": "execute_result"
    }
   ],
   "source": [
    "# Executando a aplicação\n",
    "imdb, imdb_filtered_transf = prepare_data()\n",
    "\n",
    "movie_name = input(\"Escreva o filme que você gostou: \")\n",
    "recommendations = get_movie_recommendations(movie_name, imdb, imdb_filtered_transf)\n",
    "\n",
    "print(\"\\nFilme: \", imdb[imdb[\"Series_Title\"].str.lower().str.contains(movie_name.lower())].Series_Title.iloc[0])\n",
    "print(\"=\"*80)\n",
    "print(\"Recomendações\")\n",
    "print(\"=\"*80)\n",
    "recommendations[['Series_Title', 'Genre']]\n"
   ]
  },
  {
   "cell_type": "code",
   "execution_count": null,
   "id": "1c8f3c9b",
   "metadata": {},
   "outputs": [],
   "source": []
  }
 ],
 "metadata": {
  "kernelspec": {
   "display_name": "Python 3 (ipykernel)",
   "language": "python",
   "name": "python3"
  },
  "language_info": {
   "codemirror_mode": {
    "name": "ipython",
    "version": 3
   },
   "file_extension": ".py",
   "mimetype": "text/x-python",
   "name": "python",
   "nbconvert_exporter": "python",
   "pygments_lexer": "ipython3",
   "version": "3.11.0"
  }
 },
 "nbformat": 4,
 "nbformat_minor": 5
}
